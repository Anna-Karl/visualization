{
 "cells": [
  {
   "cell_type": "markdown",
   "metadata": {},
   "source": [
    "## Reproducibility in Data Visualization\n",
    "\n",
    "# Key Points:\n",
    "Importance of Reproducibility - ensures transparency and trustworthiness in visual representations of data, both an ethical and practical approach.\n",
    "\n",
    "Images/visualizations communicate insights effectively.\n",
    "\n",
    "Manipulated visuals undermine trust in the data and its interpretations.\n",
    "\n",
    "Reproducibility - the ability for others to replicate results using provided data, code, and methods. It helps ensure transparency and accountability in decision-making.\n",
    "\n",
    "ASA Ethical Guidelines: Reproducibility is central to valid interpretations. Transparency holds creators accountable for their decisions.\n",
    "Practical Benefits:\n",
    "- Ease of Updates: Facilitates editing even months after initial creation.\n",
    "- Efficiency: Reuse and adapt previous work quickly.\n",
    "- Version Control: Trace changes precisely over time.\n",
    "\n",
    "Notes!!! Reproducibility ≠ Correctness but transparency drives incremental scientific progress.\n",
    "\n",
    "# Best Practices for Reproducible Data Visualizations\n",
    "- Work Programmatically:\n",
    "Use tools like ggplot (R) or matplotlib (Python).\n",
    "Avoid manual adjustments in software like Adobe Illustrator.\n",
    "- Use Plain Text for Code:\n",
    "Save scripts as plain-text files (e.g., R, .py).\n",
    "Avoid word processors for coding.\n",
    "Ensure outputs can be generated directly by running the code.\n",
    "- Comment Your Code:\n",
    "Add clear, concise comments explaining decisions.\n",
    "Use comments (#) or markdown (Jupyter Notebooks).\n",
    "Enhances code readability, maintenance, and updates."
   ]
  },
  {
   "cell_type": "markdown",
   "metadata": {},
   "source": [
    "## Choosing the Right Visualization\n",
    "\n",
    "# Objectivity in Data Visualization\n",
    "Can data visualizations be neutral? NO.\n",
    "Visualizations are rhetorical objects reflecting subjective design choices.\n",
    "However, they can be factual without being neutral.\n",
    "\n",
    "# Qualities of Effective Data Visualization\n",
    "Aesthetic: Is it pleasing to look at?\n",
    "Substantive: Does it present data accurately and honestly?\n",
    "Perceptual: Can the audience understand the intended message?\n",
    "\n",
    "# Cognitive Psychology in Data Visualization\n",
    "- Gestalt Principles:\n",
    "People organize visual information intuitively.\n",
    "Use principles like proximity, similarity, and closure to structure visuals.\n",
    "- Cognitive Load:\n",
    "Work to minimize extraneous load by: Using familiar chart types. Keeping designs concise. Guiding the audience through the visualization (explanatory > exploratory).\n",
    "\n",
    "# Perceived Factual Basis\n",
    "- Conventions That Reinforce Objectivity: 2D layouts. Clean designs with geometric shapes. Clear data sourcing.\n",
    "- Provenance Rhetoric: Citing data sources builds trust and signals transparency."
   ]
  }
 ],
 "metadata": {
  "language_info": {
   "name": "python"
  }
 },
 "nbformat": 4,
 "nbformat_minor": 2
}
